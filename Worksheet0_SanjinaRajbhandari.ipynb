{
  "nbformat": 4,
  "nbformat_minor": 0,
  "metadata": {
    "colab": {
      "provenance": [],
      "authorship_tag": "ABX9TyOvafABlT/JPU5u0ZrF/44y",
      "include_colab_link": true
    },
    "kernelspec": {
      "name": "python3",
      "display_name": "Python 3"
    },
    "language_info": {
      "name": "python"
    }
  },
  "cells": [
    {
      "cell_type": "markdown",
      "metadata": {
        "id": "view-in-github",
        "colab_type": "text"
      },
      "source": [
        "<a href=\"https://colab.research.google.com/github/sanjinarajbhandari/Workshop/blob/main/Worksheet0_SanjinaRajbhandari.ipynb\" target=\"_parent\"><img src=\"https://colab.research.google.com/assets/colab-badge.svg\" alt=\"Open In Colab\"/></a>"
      ]
    },
    {
      "cell_type": "code",
      "execution_count": null,
      "metadata": {
        "id": "LuzX-_PNpKJs"
      },
      "outputs": [],
      "source": []
    },
    {
      "cell_type": "markdown",
      "source": [
        "\n",
        "Task - 1: Create a Python program that converts between different units of measurement. • The program should:\n",
        "\n",
        "1. Prompt the user to choose the type of conversion (e.g., length, weight, volume).\n",
        "2. Ask the user to input the value to be converted.\n",
        "3. Perform the conversion and display the result.\n",
        "4. Handle potential errors, such as invalid input or unsupported conversion types.\n",
        "\n",
        "• Requirements:\n",
        "\n",
        "1.Functions: Define at least one function to perform the conversion.\n",
        "\n",
        "2.Error Handling: Use try-except blocks to handle invalid input (e.g., non-numeric values).\n",
        "\n",
        "3.User Input: Prompt the user to select the conversion type and input the value.\n",
        "\n",
        "4.Docstrings: Include a docstring in your function to describe its purpose, parameters, and return value.\n",
        "• Conversion Options:\n",
        "\n",
        "1. Length:\n",
        "- Convert meters (m) to feet (ft).\n",
        "\n",
        "- Convert feet (ft) to meters (m).\n",
        "\n",
        "2. Weight:\n",
        "- Convert kilograms (kg) to pounds (lbs).\n",
        "\n",
        "- Convert pounds (lbs) to kilograms (kg).\n",
        "\n",
        "3. Volume:\n",
        "- Convert liters (L) to gallons (gal).\n",
        "\n",
        "- Convert gallons (gal) to liters (L)."
      ],
      "metadata": {
        "id": "nH0oSABBp0kM"
      }
    },
    {
      "cell_type": "code",
      "source": [
        "def convert_length(value, unit):\n",
        "    if unit == 'm':\n",
        "        return f\"{value * 3.28084:.2f} ft\"\n",
        "    elif unit == 'ft':\n",
        "        return f\"{value / 3.28084:.2f} m\"\n",
        "    else:\n",
        "        raise ValueError(\"Unsupported length unit.\")\n",
        "\n",
        "def convert_weight(value, unit):\n",
        "    if unit == 'kg':\n",
        "        return f\"{value * 2.20462:.2f} lbs\"\n",
        "    elif unit == 'lbs':\n",
        "        return f\"{value / 2.20462:.2f} kg\"\n",
        "    else:\n",
        "        raise ValueError(\"Unsupported weight unit.\")\n",
        "\n",
        "def convert_volume(value, unit):\n",
        "    if unit == 'L':\n",
        "        return f\"{value * 0.264172:.2f} gal\"\n",
        "    elif unit == 'gal':\n",
        "        return f\"{value / 0.264172:.2f} L\"\n",
        "    else:\n",
        "        raise ValueError(\"Unsupported volume unit.\")\n",
        "\n",
        "def main():\n",
        "    while True:\n",
        "        print(\"\\nUnit Conversion Program:\")\n",
        "        print(\"1. Length (m <-> ft)\")\n",
        "        print(\"2. Weight (kg <-> lbs)\")\n",
        "        print(\"3. Volume (L <-> gal)\")\n",
        "        print(\"4. Exit\")\n",
        "\n",
        "        choice = input(\"Choose a conversion type (1-4): \").strip()\n",
        "        if choice == '4':\n",
        "            print(\"Exiting program. Goodbye!\")\n",
        "            break\n",
        "\n",
        "        if choice not in ('1', '2', '3'):\n",
        "            print(\"Invalid choice. Please select a number between 1 and 4.\")\n",
        "            continue\n",
        "\n",
        "        value = input(\"Enter the value to convert: \").strip()\n",
        "        if not value.replace('.', '', 1).isdigit():\n",
        "            print(\"Error: Invalid input. Please enter a numeric value.\")\n",
        "            continue\n",
        "\n",
        "        value = float(value)\n",
        "\n",
        "        unit = input(\"Enter the unit: \").strip()  # No .lower() to keep 'L' uppercase\n",
        "\n",
        "\n",
        "        try:\n",
        "            if choice == '1':\n",
        "                print(\"Converted value:\", convert_length(value, unit))\n",
        "            elif choice == '2':\n",
        "                print(\"Converted value:\", convert_weight(value, unit))\n",
        "            elif choice == '3':\n",
        "                print(\"Converted value:\", convert_volume(value, unit))\n",
        "        except ValueError as e:\n",
        "            print(\"Error:\", e)\n",
        "\n",
        "if __name__ == \"__main__\":\n",
        "    main()\n"
      ],
      "metadata": {
        "colab": {
          "base_uri": "https://localhost:8080/"
        },
        "id": "EekQDCT1p2Vs",
        "outputId": "994eac1b-b6f5-4a2f-eb18-9d8bcd745766"
      },
      "execution_count": 2,
      "outputs": [
        {
          "output_type": "stream",
          "name": "stdout",
          "text": [
            "\n",
            "Unit Conversion Program:\n",
            "1. Length (m <-> ft)\n",
            "2. Weight (kg <-> lbs)\n",
            "3. Volume (L <-> gal)\n",
            "4. Exit\n",
            "Choose a conversion type (1-4): 1\n",
            "Enter the value to convert: 55\n",
            "Enter the unit: ft\n",
            "Converted value: 16.76 m\n",
            "\n",
            "Unit Conversion Program:\n",
            "1. Length (m <-> ft)\n",
            "2. Weight (kg <-> lbs)\n",
            "3. Volume (L <-> gal)\n",
            "4. Exit\n",
            "Choose a conversion type (1-4): 4\n",
            "Exiting program. Goodbye!\n"
          ]
        }
      ]
    },
    {
      "cell_type": "markdown",
      "source": [
        "Task - 2:\n",
        "Create a Python program that performs various mathematical operations on a list of numbers.\n",
        "• The Program should:\n",
        "1. Prompt the user to choose an operation (e.g., find the sum, average, maximum, or minimum of the numbers).\n",
        "\n",
        "2. Ask the user to input a list of numbers (separated by spaces).\n",
        "\n",
        "3. Perform the selected operation and display the result.\n",
        "\n",
        "4. Handle potential errors, such as invalid input or empty lists.\n",
        "\n",
        "• Requirements:\n",
        "\n",
        "1. Functions: Define at least one function for each operation (sum, average, maximum, minimum).\n",
        "\n",
        "2. Error Handling: Use try-except blocks to handle invalid input (e.g., non-numeric values or\n",
        "empty lists).\n",
        "\n",
        "3. User Input: Prompt the user to select the operation and input the list of numbers.\n",
        "4. Docstrings: Include a docstring in each function to describe its purpose, parameters, and\n",
        "return value."
      ],
      "metadata": {
        "id": "LqVI_UY3q_Tc"
      }
    },
    {
      "cell_type": "code",
      "source": [
        "\"\"\"Returns the sum if the given list of numbers.\n",
        ":param numbers: A list of numberical values.\n",
        ":return: Sim of the numbers.\n",
        "\"\"\"\n",
        "def calculate_sum(numbers):\n",
        "  return sum(numbers)\n",
        "\n",
        "\"\"\"Returns the average of the given list of numbers.\n",
        ":param numbers: A list of numberical values.\n",
        ":return: Average of the numbers.\n",
        "\"\"\"\n",
        "def calculate_average(numbers):\n",
        "  return sum(numbers)/len(numbers) if numbers else 0\n",
        "\n",
        "\"\"\"Returns the maximum of the given list of numbers.\n",
        ":param numbers: A list of numberical values.\n",
        ":return: Maximal of the numbers.\n",
        "\"\"\"\n",
        "def find_maximum(numbers):\n",
        "  return max(numbers)\n",
        "\n",
        "\"\"\"Returns the minimum of the given list of numbers.\n",
        ":param numbers: A list of numberical values.\n",
        ":return: minimum of the numbers.\n",
        "\"\"\"\n",
        "def find_minimum(numbers):\n",
        "  return min(numbers)\n",
        "\n",
        "def main():\n",
        "  while True:\n",
        "    print(\"\\n Mathemathical operations on a List of Numbers\")\n",
        "    print(\"1. sum\")\n",
        "    print(\"2. Average\")\n",
        "    print(\"3. Maximum\")\n",
        "    print(\"4. Minimum\")\n",
        "    print(\"5. Exit\")\n",
        "\n",
        "    choice = input(\"Choose an operation (1-5): \").strip()\n",
        "\n",
        "    if choice == '5':\n",
        "      print(\"Exiting program. Goodbye!\")\n",
        "      break\n",
        "\n",
        "    if choice not in ('1', '2', '3', '4'):\n",
        "      print(\"Invalid choicve. Please select a number between 1 and 5.\")\n",
        "      continue\n",
        "\n",
        "    numbers_input = input(\"Enter a list of numbers separated by spaces:\").strip()\n",
        "\n",
        "    try:\n",
        "      numbers = [float(num) for num in numbers_input.split()]\n",
        "      if not numbers:\n",
        "        raise ValueError(\"The list numbers cannot be empty.\")\n",
        "    except ValueError:\n",
        "      print(\"Error: Invalid input. Please enter a valid list of numbers.\")\n",
        "      continue\n",
        "\n",
        "    if choice == '1':\n",
        "      print(\"Sum:\", calculate_sum(numbers))\n",
        "    elif choice == '2':\n",
        "      print(\"Average:\", calculate_average(numbers))\n",
        "    elif choice == '3':\n",
        "      print(\"Maximum:\", find_maximum(numbers))\n",
        "    elif choice == '4':\n",
        "      print(\"Minimum:\", find_minimum(numbers))\n",
        "\n",
        "if __name__ == \"__main__\":\n",
        "  main()\n"
      ],
      "metadata": {
        "colab": {
          "base_uri": "https://localhost:8080/"
        },
        "id": "AR4gC_x2rhGc",
        "outputId": "22fc1d5d-5abf-46a9-a0be-97ecfd8e0a63"
      },
      "execution_count": 4,
      "outputs": [
        {
          "output_type": "stream",
          "name": "stdout",
          "text": [
            "\n",
            " Mathemathical operations on a List of Numbers\n",
            "1. sum\n",
            "2. Average\n",
            "3. Maximum\n",
            "4. Minimum\n",
            "5. Exit\n",
            "Choose an operation (1-5): 3\n",
            "Enter a list of numbers separated by spaces:5 8 9 7\n",
            "Maximum: 9.0\n",
            "\n",
            " Mathemathical operations on a List of Numbers\n",
            "1. sum\n",
            "2. Average\n",
            "3. Maximum\n",
            "4. Minimum\n",
            "5. Exit\n",
            "Choose an operation (1-5): 2\n",
            "Enter a list of numbers separated by spaces:8 6 9 5 1 \n",
            "Average: 5.8\n",
            "\n",
            " Mathemathical operations on a List of Numbers\n",
            "1. sum\n",
            "2. Average\n",
            "3. Maximum\n",
            "4. Minimum\n",
            "5. Exit\n",
            "Choose an operation (1-5): 5\n",
            "Exiting program. Goodbye!\n"
          ]
        }
      ]
    },
    {
      "cell_type": "markdown",
      "source": [
        "4.2 Exercise on List Manipulation:\n",
        "\n",
        "1. Extract Every Other Element:\n",
        "Write a Python function that extracts every other element from a list, starting from the first element.\n",
        "\n",
        "• Requirements:\n",
        "\n",
        "-  Define a function extract every other(lst) that takes a list lst as input and returns a\n",
        "new list containing every other element from the original list.\n",
        "- Example: For the input [1, 2, 3, 4, 5, 6], the output should be [1, 3, 5]."
      ],
      "metadata": {
        "id": "6SmBtzAEr8w0"
      }
    },
    {
      "cell_type": "code",
      "source": [
        "def extract_every_other(lst):\n",
        "  return lst[::2]\n",
        "\n",
        "example_list = [1, 2, 3, 4, 5, 6]\n",
        "print(extract_every_other(example_list))"
      ],
      "metadata": {
        "colab": {
          "base_uri": "https://localhost:8080/"
        },
        "id": "tNGJnl0UsGV0",
        "outputId": "c1da98e6-f954-4013-db12-22fd0aac712e"
      },
      "execution_count": 5,
      "outputs": [
        {
          "output_type": "stream",
          "name": "stdout",
          "text": [
            "[1, 3, 5]\n"
          ]
        }
      ]
    },
    {
      "cell_type": "markdown",
      "source": [
        "2. Slice a Sublist:\n",
        "\n",
        "Write a Python function that returns a sublist from a given list, starting from a specified index and\n",
        "ending at another specified index.\n",
        "\n",
        "• Requirements:\n",
        "\n",
        "– Define a function get sublist(lst, start, end) that takes a list lst, a starting index\n",
        "start, and an ending index end as input and returns the sublist from start to end (inclusive).\n",
        "\n",
        "– Example: For the input [1, 2, 3, 4, 5, 6] with start=2 and end=4, the output should\n",
        "be [3, 4, 5]."
      ],
      "metadata": {
        "id": "r6yj8-ATsj1U"
      }
    },
    {
      "cell_type": "code",
      "source": [
        "def get_sublist(lst, start, end):\n",
        "  return lst[start:end+1]\n",
        "\n",
        "lst = [1,2,3,4,5,6]\n",
        "start = 2\n",
        "end = 4\n",
        "result = get_sublist(lst, start, end)\n",
        "print(result)"
      ],
      "metadata": {
        "colab": {
          "base_uri": "https://localhost:8080/"
        },
        "id": "h_Bj9Kx1snNE",
        "outputId": "08507ada-c924-414b-9ea1-c3d72cbaa0f4"
      },
      "execution_count": 6,
      "outputs": [
        {
          "output_type": "stream",
          "name": "stdout",
          "text": [
            "[3, 4, 5]\n"
          ]
        }
      ]
    },
    {
      "cell_type": "markdown",
      "source": [
        "3. Reverse a List Using Slicing:\n",
        "\n",
        "Write a Python function that reverses a list using slicing.\n",
        "\n",
        "• Requirements:\n",
        "\n",
        "– Define a function reverse list(lst) that takes a list lst and returns a reversed list using\n",
        "slicing.\n",
        "\n",
        "– Example: For the input [1, 2, 3, 4, 5], the output should be [5, 4, 3, 2, 1]."
      ],
      "metadata": {
        "id": "iFY-ctXdsrRs"
      }
    },
    {
      "cell_type": "code",
      "source": [
        "def reverse_list(lst):\n",
        "  return lst[::-1]\n",
        "\n",
        "lst = [1,2,3,4,5]\n",
        "result = reverse_list(lst)\n",
        "print(result)"
      ],
      "metadata": {
        "colab": {
          "base_uri": "https://localhost:8080/"
        },
        "id": "wwpmwTuzstgd",
        "outputId": "428dfcdf-b763-43e0-dfd9-15adaaea118c"
      },
      "execution_count": 7,
      "outputs": [
        {
          "output_type": "stream",
          "name": "stdout",
          "text": [
            "[5, 4, 3, 2, 1]\n"
          ]
        }
      ]
    },
    {
      "cell_type": "markdown",
      "source": [
        "4. Remove the First and Last Elements:\n",
        "\n",
        "Write a Python function that removes the first and last elements of a list and returns the resulting sublist.\n",
        "\n",
        "• Requirements:\n",
        "\n",
        "– Define a function remove first last(lst) that takes a list lst and returns a sublist without\n",
        "the first and last elements using slicing.\n",
        "\n",
        "– Example: For the input [1, 2, 3, 4, 5], the output should be [2, 3, 4]."
      ],
      "metadata": {
        "id": "X4QLB4AwszLU"
      }
    },
    {
      "cell_type": "code",
      "source": [
        "def remove_first_last(lst):\n",
        "  return lst[1:-1]\n",
        "lst = [1,2,3,4,5]\n",
        "result = remove_first_last(lst)\n",
        "print(result)"
      ],
      "metadata": {
        "colab": {
          "base_uri": "https://localhost:8080/"
        },
        "id": "6eCjMnrds2GU",
        "outputId": "efa84b07-c879-401a-f8a3-0f1151a518c0"
      },
      "execution_count": 8,
      "outputs": [
        {
          "output_type": "stream",
          "name": "stdout",
          "text": [
            "[2, 3, 4]\n"
          ]
        }
      ]
    },
    {
      "cell_type": "markdown",
      "source": [
        "5. Get the First n Elements:\n",
        "\n",
        "Write a Python function that extracts the first n elements from a list.\n",
        "\n",
        "• Requirements:\n",
        "\n",
        "– Define a function get first n(lst, n) that takes a list lst and an integer n as input and\n",
        "returns the first n elements of the list using slicing.\n",
        "\n",
        "– Example: For the input [1, 2, 3, 4, 5] with n=3, the output should be [1, 2, 3]."
      ],
      "metadata": {
        "id": "78mvRO5ks62D"
      }
    },
    {
      "cell_type": "code",
      "source": [
        "def get_first_n(lst,n):\n",
        "  return lst[:n]\n",
        "\n",
        "my_list = [1,2,3,4,5]\n",
        "n = 3\n",
        "first_n_elements = get_first_n(my_list, n)\n",
        "print(first_n_elements)"
      ],
      "metadata": {
        "colab": {
          "base_uri": "https://localhost:8080/"
        },
        "id": "oEfUQzGYs9QM",
        "outputId": "3d2e2b34-c9c7-4193-ce25-a855c6ec4b42"
      },
      "execution_count": 9,
      "outputs": [
        {
          "output_type": "stream",
          "name": "stdout",
          "text": [
            "[1, 2, 3]\n"
          ]
        }
      ]
    },
    {
      "cell_type": "markdown",
      "source": [
        "6. Extract Elements from the End:\n",
        "\n",
        "Write a Python function that extracts the last n elements of a list using slicing.\n",
        "\n",
        "• Requirements:\n",
        "\n",
        "– Define a function get last n(lst, n) that takes a list lst and an integer n as input and\n",
        "returns the last n elements of the list.\n",
        "– Example: For the input [1, 2, 3, 4, 5] with n=2, the output should be [4, 5]."
      ],
      "metadata": {
        "id": "cCWPiRWYtKpE"
      }
    },
    {
      "cell_type": "code",
      "source": [
        "def get_last_n(lst, n):\n",
        "  return lst[-n:]\n",
        "\n",
        "mi_list = [1,2,3,4,5]\n",
        "n = 2\n",
        "last_n_elements = get_last_n(mi_list, n)\n",
        "print(last_n_elements)\n"
      ],
      "metadata": {
        "colab": {
          "base_uri": "https://localhost:8080/"
        },
        "id": "euW0h9X_tqFb",
        "outputId": "3ab5c1bf-06c0-4e59-9ce9-16669d850943"
      },
      "execution_count": 10,
      "outputs": [
        {
          "output_type": "stream",
          "name": "stdout",
          "text": [
            "[4, 5]\n"
          ]
        }
      ]
    },
    {
      "cell_type": "markdown",
      "source": [
        "7. Extract Elements in Reverse Order:\n",
        "\n",
        "Write a Python function that extracts a list of elements in reverse order starting from the second-to-last\n",
        "element and skipping one element in between.\n",
        "\n",
        "• Requirements:\n",
        "\n",
        "– Define a function reverse skip(lst) that takes a list lst and returns a new list containing\n",
        "every second element starting from the second-to-last, moving backward.\n",
        "\n",
        "– Example: For the input [1, 2, 3, 4, 5, 6], the output should be [5, 3, 1]."
      ],
      "metadata": {
        "id": "nEmlzlYwtt40"
      }
    },
    {
      "cell_type": "code",
      "source": [
        "def reverse_skip(lst):\n",
        "  return lst[-2 :: -2]\n",
        "\n",
        "my_list = [1,2,3,4,5,6]\n",
        "result = reverse_skip(my_list)\n",
        "print(result)"
      ],
      "metadata": {
        "colab": {
          "base_uri": "https://localhost:8080/"
        },
        "id": "SyxSHyunt5xb",
        "outputId": "1024c900-644b-49ab-98f0-be045749fa55"
      },
      "execution_count": 11,
      "outputs": [
        {
          "output_type": "stream",
          "name": "stdout",
          "text": [
            "[5, 3, 1]\n"
          ]
        }
      ]
    },
    {
      "cell_type": "markdown",
      "source": [
        "4.3 Exercise on Nested List:\n",
        "\n",
        "1. Flatten a Nested List:\n",
        "\n",
        "Write a Python function that takes a nested list and flattens it into a single list, where all the elements\n",
        "are in a single dimension.\n",
        "\n",
        "• Requirements:\n",
        "\n",
        "– Define a function flatten(lst) that takes a nested list lst and returns a flattened version\n",
        "of the list.\n",
        "\n",
        "– Example: For the input [[1, 2], [3, 4], [5]], the output should be [1, 2, 3, 4, 5]."
      ],
      "metadata": {
        "id": "IdZi9v1Kt9dj"
      }
    },
    {
      "cell_type": "code",
      "source": [
        "def flatten(lst):\n",
        "  flattened_list = []\n",
        "  for item in lst:\n",
        "     if isinstance(item, list):\n",
        "      flattened_list.extend(flatten(item))\n",
        "     else:\n",
        "      flattened_list.append(item)\n",
        "  return flattened_list\n",
        "nested_list = [[1,2],[3,4],[5]]\n",
        "flattened_list = flatten(nested_list)\n",
        "print(flattened_list)"
      ],
      "metadata": {
        "colab": {
          "base_uri": "https://localhost:8080/"
        },
        "id": "KmvEn7MCt_Ej",
        "outputId": "82b2ea52-d9f4-4af6-c99c-539681ce2bb1"
      },
      "execution_count": 12,
      "outputs": [
        {
          "output_type": "stream",
          "name": "stdout",
          "text": [
            "[1, 2, 3, 4, 5]\n"
          ]
        }
      ]
    },
    {
      "cell_type": "markdown",
      "source": [
        "2. Accessing Nested List Elements:\n",
        "\n",
        "Write a Python function that extracts a specific element from a nested list given its indices.\n",
        "\n",
        "• Requirements:\n",
        "\n",
        "– Define a function access nested element(lst, indices) that takes a nested list lst and\n",
        "a list of indices indices, and returns the element at that position.\n",
        "\n",
        "– Example: For the input lst = [[1, 2, 3], [4, 5, 6], [7, 8, 9]] with indices = [1,\n",
        "2], the output should be 6."
      ],
      "metadata": {
        "id": "DUlKORd4uCXM"
      }
    },
    {
      "cell_type": "code",
      "source": [
        "def access_nested_element(lst, indices):\n",
        "\n",
        "  element = lst\n",
        "  for index in indices:\n",
        "    element = element[index]\n",
        "  return element\n",
        "\n",
        "lst = [[1, 2, 3], [4, 5, 6], [7, 8, 9]]\n",
        "indices = [1,2]\n",
        "element = access_nested_element(lst,indices)\n",
        "print(element)"
      ],
      "metadata": {
        "colab": {
          "base_uri": "https://localhost:8080/"
        },
        "id": "vjgcRjvkuDvz",
        "outputId": "5b801b49-9ae1-4c23-eea9-e55d3e0624cb"
      },
      "execution_count": 13,
      "outputs": [
        {
          "output_type": "stream",
          "name": "stdout",
          "text": [
            "6\n"
          ]
        }
      ]
    },
    {
      "cell_type": "markdown",
      "source": [
        "3. Sum of All Elements in a Nested List:\n",
        "\n",
        "Write a Python function that calculates the sum of all the numbers in a nested list (regardless of depth).\n",
        "\n",
        "• Requirements:\n",
        "\n",
        "– Define a function sum nested(lst) that takes a nested list lst and returns the sum of all\n",
        "the elements.\n",
        "– Example: For the input [[1, 2], [3, [4, 5]], 6], the output should be 21."
      ],
      "metadata": {
        "id": "la3GSmB9uFqk"
      }
    },
    {
      "cell_type": "code",
      "source": [
        "def sum_nested(lst):\n",
        "  total_sum = 0\n",
        "  for item in lst:\n",
        "    if isinstance(item, list):\n",
        "      total_sum += sum_nested(item)\n",
        "    elif isinstance(item, (int, float)):\n",
        "      total_sum+=item\n",
        "  return total_sum\n",
        "\n",
        "nested_list = [[1, 2], [3, [4, 5]], 6]\n",
        "total_sum = sum_nested(nested_list)\n",
        "print(total_sum)\n",
        "\n"
      ],
      "metadata": {
        "colab": {
          "base_uri": "https://localhost:8080/"
        },
        "id": "YnaA4FmyuIFj",
        "outputId": "8fdaf267-be40-4038-a880-4d81eb7701ca"
      },
      "execution_count": 14,
      "outputs": [
        {
          "output_type": "stream",
          "name": "stdout",
          "text": [
            "21\n"
          ]
        }
      ]
    },
    {
      "cell_type": "markdown",
      "source": [
        "5. Find the Maximum Element in a Nested List:\n",
        "\n",
        "Write a Python function that finds the maximum element in a nested list (regardless of depth).\n",
        "\n",
        "• Requirements:\n",
        "\n",
        "– Define a function find max(lst) that takes a nested list lst and returns the maximum\n",
        "element.\n",
        "\n",
        "– Example: For the input [[1, 2], [3, [4, 5]], 6], the output should be 6."
      ],
      "metadata": {
        "id": "omyw-pv6uMvb"
      }
    },
    {
      "cell_type": "code",
      "source": [
        "def find_max(lst):\n",
        "   max_element = float('-inf')  # Initialize with negative infinity\n",
        "\n",
        "   for item in lst:\n",
        "    if isinstance(item, list):\n",
        "      max_element = max(max_element, find_max(item))  # Recursive call\n",
        "    elif isinstance(item, (int, float)):\n",
        "      max_element = max(max_element, item)\n",
        "\n",
        "   return max_element\n",
        "\n",
        "# Example usage\n",
        "nested_list = [[1, 2], [3, [4, 5]], 6]\n",
        "max_element = find_max(nested_list)\n",
        "print(max_element)  # Output: 6\n"
      ],
      "metadata": {
        "colab": {
          "base_uri": "https://localhost:8080/"
        },
        "id": "yxA_Be97uO6z",
        "outputId": "5966c4ac-2471-4893-93b1-cb431ce884fd"
      },
      "execution_count": 15,
      "outputs": [
        {
          "output_type": "stream",
          "name": "stdout",
          "text": [
            "6\n"
          ]
        }
      ]
    },
    {
      "cell_type": "markdown",
      "source": [
        "6. Count Occurrences of an Element in a Nested List:\n",
        "\n",
        "Write a Python function that counts how many times a specific element appears in a nested list.\n",
        "\n",
        "• Requirements:\n",
        "\n",
        "– Define a function count occurrences(lst, elem) that counts the occurrences of elem in\n",
        "the nested list lst.\n",
        "\n",
        "– Example: For the input lst = [[1, 2], [2, 3], [2, 4]] and elem = 2, the output should\n",
        "be 3."
      ],
      "metadata": {
        "id": "8oUydlWvuTz8"
      }
    },
    {
      "cell_type": "code",
      "source": [
        "\n",
        "def count_occurrences(lst, elem):\n",
        "  count = 0\n",
        "  for item in lst:\n",
        "    if isinstance(item, list):\n",
        "      count += count_occurrences(item, elem)\n",
        "    elif item == elem:\n",
        "      count += 1\n",
        "  return count\n",
        "\n",
        "# Example usage\n",
        "lst = [[1, 2], [2, 3], [2, 4]]\n",
        "elem = 2\n",
        "occurrences = count_occurrences(lst, elem)\n",
        "print(occurrences)  # Output: 3"
      ],
      "metadata": {
        "colab": {
          "base_uri": "https://localhost:8080/"
        },
        "id": "bul4fa-YuWZT",
        "outputId": "420a2711-d681-4f1c-c930-8f23c810c408"
      },
      "execution_count": 16,
      "outputs": [
        {
          "output_type": "stream",
          "name": "stdout",
          "text": [
            "3\n"
          ]
        }
      ]
    },
    {
      "cell_type": "markdown",
      "source": [
        "7. Flatten a List of Lists of Lists:\n",
        "\n",
        "Write a Python function that flattens a list of lists of lists into a single list, regardless of the depth.\n",
        "\n",
        "• Requirements:\n",
        "\n",
        "– Define a function deep flatten(lst) that takes a deeply nested list lst and returns a single\n",
        "flattened list.\n",
        "\n",
        "– Example: For the input [[[1, 2], [3, 4]], [[5, 6], [7, 8]]], the output should be\n",
        "[1, 2, 3, 4, 5, 6, 7, 8]."
      ],
      "metadata": {
        "id": "AN4pdLTvuZQE"
      }
    },
    {
      "cell_type": "code",
      "source": [
        "def deep_flatten(lst):\n",
        "  flattened_list = []\n",
        "  for item in lst:\n",
        "    if isinstance(item, list):\n",
        "      flattened_list.extend(deep_flatten(item))\n",
        "    else:\n",
        "      flattened_list.append(item)\n",
        "  return flattened_list\n",
        "\n",
        "lst = [[[1, 2], [3, 4]], [[5, 6], [7, 8]]]\n",
        "flattened_list = deep_flatten(lst)\n",
        "print(flattened_list)"
      ],
      "metadata": {
        "colab": {
          "base_uri": "https://localhost:8080/"
        },
        "id": "_XnWZh64uae7",
        "outputId": "78e618f0-af6a-47aa-8a01-6e20ef6f7445"
      },
      "execution_count": 17,
      "outputs": [
        {
          "output_type": "stream",
          "name": "stdout",
          "text": [
            "[1, 2, 3, 4, 5, 6, 7, 8]\n"
          ]
        }
      ]
    },
    {
      "cell_type": "markdown",
      "source": [
        "8. Nested List Average:\n",
        "Write a Python function that calculates the average of all elements in a nested list.\n",
        "• Requirements:\n",
        "– Define a function average nested(lst) that takes a nested list lst and returns the average\n",
        "of all the elements.\n",
        "– Example: For the input [[1, 2], [3, 4], [5, 6]], the output should be 3.5."
      ],
      "metadata": {
        "id": "YnigfRdjuc7T"
      }
    },
    {
      "cell_type": "code",
      "source": [
        "def average_nested(lst):\n",
        "  total_sum = 0\n",
        "  count = 0\n",
        "  for item in lst:\n",
        "    if isinstance(item, list):\n",
        "      for element in item:\n",
        "        if isinstance(element, (int, float)):\n",
        "          total_sum += element\n",
        "          count += 1\n",
        "    elif isinstance(item, (int, float)):\n",
        "      total_sum += item\n",
        "      count += 1\n",
        "  return total_sum / count if count else 0\n",
        "\n",
        "lst = [[1, 2], [3, 4], [5, 6]]\n",
        "average = average_nested(lst)\n",
        "print(average)"
      ],
      "metadata": {
        "colab": {
          "base_uri": "https://localhost:8080/"
        },
        "id": "WTvPnnUXuegz",
        "outputId": "9c973558-16fd-4edc-bc5b-8a30d0c88dd9"
      },
      "execution_count": 18,
      "outputs": [
        {
          "output_type": "stream",
          "name": "stdout",
          "text": [
            "3.5\n"
          ]
        }
      ]
    },
    {
      "cell_type": "markdown",
      "source": [
        "Problem - 1: Array Creation:\n",
        "\n",
        "Complete the following Tasks:\n",
        "\n",
        "1. Initialize an empty array with size 2X2.\n",
        "2. Initialize an all one array with size 4X2.\n",
        "3. Return a new array of given shape and type, filled with fill value.{Hint: np.full}\n",
        "4. Return a new array of zeros with same shape and type as a given array.{Hint: np.zeros like}\n",
        "5. Return a new array of ones with same shape and type as a given array.{Hint: np.ones like}\n",
        "6. For an existing list new_list = [1,2,3,4] convert to an numpy array.{Hint: np.array()}"
      ],
      "metadata": {
        "id": "Lb9bngj3ugsD"
      }
    },
    {
      "cell_type": "code",
      "source": [
        "import numpy as np\n",
        "\n",
        "# 1. Initialize an empty array with size 2X2.\n",
        "empty_array = np.empty((2, 2))\n",
        "\n",
        "# 2. Initialize an all one array with size 4X2.\n",
        "ones_array = np.ones((4, 2))\n",
        "\n",
        "# 3. Return a new array of given shape and type, filled with fill value.\n",
        "shape = (3, 3)\n",
        "fill_value = 7\n",
        "full_array = np.full(shape, fill_value)\n",
        "\n",
        "# 4. Return a new array of zeros with the same shape and type as a given array.\n",
        "example_array = np.array([[1, 2], [3, 4]], dtype=int)\n",
        "zeros_array = np.zeros_like(example_array)\n",
        "\n",
        "# 5. Return a new array of ones with the same shape and type as a given array.\n",
        "ones_like_array = np.ones_like(example_array)\n",
        "\n",
        "# 6. For an existing list new_list = [1, 2, 3, 4] convert to a numpy array.\n",
        "new_list = [1, 2, 3, 4]\n",
        "numpy_array = np.array(new_list)\n",
        "\n",
        "# Print the results (optional)\n",
        "print(\"1. Empty Array:\\n\", empty_array)\n",
        "print(\"\\n2. Ones Array:\\n\", ones_array)\n",
        "print(\"\\n3. Full Array:\\n\", full_array)\n",
        "print(\"\\n4. Zeros Like Array:\\n\", zeros_array)\n",
        "print(\"\\n5. Ones Like Array:\\n\", ones_like_array)\n",
        "print(\"\\n6. Numpy Array from List:\\n\", numpy_array)\n"
      ],
      "metadata": {
        "colab": {
          "base_uri": "https://localhost:8080/"
        },
        "id": "Sg7iTeOfuiqT",
        "outputId": "f556f000-6719-41c9-e2bc-952377eb5c66"
      },
      "execution_count": 19,
      "outputs": [
        {
          "output_type": "stream",
          "name": "stdout",
          "text": [
            "1. Empty Array:\n",
            " [[2.62259822e-316 0.00000000e+000]\n",
            " [8.95494528e-312 2.56761491e-312]]\n",
            "\n",
            "2. Ones Array:\n",
            " [[1. 1.]\n",
            " [1. 1.]\n",
            " [1. 1.]\n",
            " [1. 1.]]\n",
            "\n",
            "3. Full Array:\n",
            " [[7 7 7]\n",
            " [7 7 7]\n",
            " [7 7 7]]\n",
            "\n",
            "4. Zeros Like Array:\n",
            " [[0 0]\n",
            " [0 0]]\n",
            "\n",
            "5. Ones Like Array:\n",
            " [[1 1]\n",
            " [1 1]]\n",
            "\n",
            "6. Numpy Array from List:\n",
            " [1 2 3 4]\n"
          ]
        }
      ]
    },
    {
      "cell_type": "markdown",
      "source": [
        "Problem - 2: Array Manipulation: Numerical Ranges and Array indexing:\n",
        "\n",
        "Complete the following tasks:\n",
        "\n",
        "1. Create an array with values ranging from 10 to 49. {Hint:np.arrange()}.\n",
        "2. Create a 3X3 matrix with values ranging from 0 to 8.\n",
        "{Hint:look for np.reshape()}\n",
        "3. Create a 3X3 identity matrix.{Hint:np.eye()}\n",
        "4. Create a random array of size 30 and find the mean of the array.\n",
        "{Hint:check for np.random.random() and array.mean() function}\n",
        "5. Create a 10X10 array with random values and find the minimum and maximum values.\n",
        "6. Create a zero array of size 10 and replace 5th element with 1.\n",
        "7. Reverse an array arr = [1,2,0,0,4,0].\n",
        "8. Create a 2d array with 1 on border and 0 inside.\n",
        "9. Create a 8X8 matrix and fill it with a checkerboard pattern."
      ],
      "metadata": {
        "id": "wnGuvKYpu_F0"
      }
    },
    {
      "cell_type": "code",
      "source": [
        "import numpy as np\n",
        "\n",
        "# 1. Create an array with values ranging from 10 to 49.\n",
        "array1 = np.arange(10, 50)\n",
        "\n",
        "# 2. Create a 3x3 matrix with values ranging from 0 to 8.\n",
        "array2 = np.arange(9).reshape(3, 3)\n",
        "\n",
        "# 3. Create a 3x3 identity matrix.\n",
        "array3 = np.eye(3)\n",
        "\n",
        "# 4. Create a random array of size 30 and find the mean.\n",
        "array4 = np.random.random(30)\n",
        "mean_array4 = array4.mean()\n",
        "\n",
        "# 5. Create a 10x10 array with random values and find min/max.\n",
        "array5 = np.random.random((10, 10))\n",
        "min_array5 = array5.min()\n",
        "max_array5 = array5.max()\n",
        "\n",
        "# 6. Create a zero array of size 10 and replace 5th element with 1.\n",
        "array6 = np.zeros(10)\n",
        "array6[4] = 1  # Remember, Python indexing starts at 0\n",
        "\n",
        "# 7. Reverse an array arr = [1, 2, 0, 0, 4, 0].\n",
        "arr = [1, 2, 0, 0, 4, 0]\n",
        "reversed_arr = arr[::-1]\n",
        "\n",
        "# 8. Create a 2d array with 1 on border and 0 inside.\n",
        "array8 = np.ones((5, 5))  # Example size, adjust as needed\n",
        "array8[1:-1, 1:-1] = 0\n",
        "\n",
        "# 9. Create an 8x8 matrix with a checkerboard pattern.\n",
        "array9 = np.zeros((8, 8), dtype=int)\n",
        "array9[::2, 1::2] = 1\n",
        "array9[1::2, ::2] = 1\n",
        "\n",
        "\n",
        "print(\"\\n1.\", array1)\n",
        "\n",
        "print(\"\\n2.\", array2)\n",
        "\n",
        "print(\"\\n3.\", array3)\n",
        "\n",
        "print(\"\\n4. Mean:\", mean_array4)\n",
        "\n",
        "print(\"\\n5. Min:\", min_array5, \"Max:\", max_array5)\n",
        "\n",
        "print(\"\\n6.\", array6)\n",
        "\n",
        "print(\"\\n7.\", reversed_arr)\n",
        "\n",
        "print(\"\\n8.\", array8)\n",
        "print(\"\\n9.\", array9)"
      ],
      "metadata": {
        "colab": {
          "base_uri": "https://localhost:8080/"
        },
        "id": "UrJIPXiYvAvr",
        "outputId": "f8a19337-2966-4921-8ab4-7072e8087eca"
      },
      "execution_count": 20,
      "outputs": [
        {
          "output_type": "stream",
          "name": "stdout",
          "text": [
            "\n",
            "1. [10 11 12 13 14 15 16 17 18 19 20 21 22 23 24 25 26 27 28 29 30 31 32 33\n",
            " 34 35 36 37 38 39 40 41 42 43 44 45 46 47 48 49]\n",
            "\n",
            "2. [[0 1 2]\n",
            " [3 4 5]\n",
            " [6 7 8]]\n",
            "\n",
            "3. [[1. 0. 0.]\n",
            " [0. 1. 0.]\n",
            " [0. 0. 1.]]\n",
            "\n",
            "4. Mean: 0.5204972502671794\n",
            "\n",
            "5. Min: 0.017163203493423262 Max: 0.9995167169326558\n",
            "\n",
            "6. [0. 0. 0. 0. 1. 0. 0. 0. 0. 0.]\n",
            "\n",
            "7. [0, 4, 0, 0, 2, 1]\n",
            "\n",
            "8. [[1. 1. 1. 1. 1.]\n",
            " [1. 0. 0. 0. 1.]\n",
            " [1. 0. 0. 0. 1.]\n",
            " [1. 0. 0. 0. 1.]\n",
            " [1. 1. 1. 1. 1.]]\n",
            "\n",
            "9. [[0 1 0 1 0 1 0 1]\n",
            " [1 0 1 0 1 0 1 0]\n",
            " [0 1 0 1 0 1 0 1]\n",
            " [1 0 1 0 1 0 1 0]\n",
            " [0 1 0 1 0 1 0 1]\n",
            " [1 0 1 0 1 0 1 0]\n",
            " [0 1 0 1 0 1 0 1]\n",
            " [1 0 1 0 1 0 1 0]]\n"
          ]
        }
      ]
    },
    {
      "cell_type": "markdown",
      "source": [
        "Problem - 3: Array Operations:\n",
        "\n",
        "For the following arrays:\n",
        "\n",
        "x = np.array([[1,2],[3,5]]) and y = np.array([[5,6],[7,8]]);\n",
        "v = np.array([9,10]) and w = np.array([11,12]);\n",
        "Complete all the task using numpy:\n",
        "1. Add the two array.\n",
        "2. Subtract the two array.\n",
        "3. Multiply the array with any integers of your choice.\n",
        "4. Find the square of each element of the array.\n",
        "5. Find the dot product between: v(and)w ; x(and)v ; x(and)y.\n",
        "6. Concatenate x(and)y along row and Concatenate v(and)w along column.\n",
        "{Hint:try np.concatenate() or np.vstack() functions.\n",
        "7. Concatenate x(and)v; if you get an error, observe and explain why did you get the error?"
      ],
      "metadata": {
        "id": "4yjQk7UmvENj"
      }
    },
    {
      "cell_type": "code",
      "source": [
        "import numpy as np\n",
        "\n",
        "x = np.array([[1, 2], [3, 5]])\n",
        "y = np.array([[5, 6], [7, 8]])\n",
        "v = np.array([9, 10])\n",
        "w = np.array([11, 12])\n",
        "\n",
        "# 1. Add the two arrays (x and y)\n",
        "add_result = x + y\n",
        "\n",
        "# 2. Subtract the two arrays (x and y)\n",
        "subtract_result = x - y\n",
        "\n",
        "# 3. Multiply the array x by an integer (e.g., 3)\n",
        "multiply_result = x * 3\n",
        "\n",
        "# 4. Find the square of each element of the array x\n",
        "square_result = x ** 2\n",
        "\n",
        "# 5. Find the dot product\n",
        "dot_vw = np.dot(v, w)\n",
        "dot_xv = np.dot(x, v)\n",
        "dot_xy = np.dot(x, y)\n",
        "\n",
        "# 6. Concatenate\n",
        "concat_xy_row = np.concatenate((x, y), axis=0)  # Along row (axis=0)\n",
        "concat_vw_col = np.vstack((v, w))       # Along column (equivalent to axis=0 for 1D arrays)\n",
        "\n",
        "\n",
        "# 7. Concatenate x and v (will result in an error)\n",
        "# concat_xv = np.concatenate((x, v), axis=0)  # Uncomment to see the error\n",
        "\n",
        "# Explanation of the error in step 7:\n",
        "# The error occurs because x has shape (2, 2) and v has shape (2,).\n",
        "# np.concatenate requires arrays to have the same number of dimensions\n",
        "# along the concatenation axis (axis=0 in this case).\n",
        "\n",
        "# To fix the error:\n",
        "\n",
        "# Option 1: Reshape v to have 2 dimensions:\n",
        "v_reshaped = v.reshape(1, 2) # Reshape to (1,2)\n",
        "concat_xv = np.concatenate((x,v_reshaped), axis=0)\n",
        "\n",
        "# Print the results (optional - uncomment to see outputs)\n",
        "print(\"1. Addition:\\n\", add_result)\n",
        "print(\"\\n2. Subtraction:\\n\", subtract_result)\n",
        "print(\"\\n3. Multiplication:\\n\", multiply_result)\n",
        "print(\"\\n4. Square:\\n\", square_result)\n",
        "print(\"\\n5. Dot Products: vw =\", dot_vw, \", xv =\", dot_xv, \", xy =\\n\", dot_xy)\n",
        "print(\"\\n6. Concatenation: xy (row) =\\n\", concat_xy_row, \", vw (col) =\\n\", concat_vw_col)\n",
        "print(\"\\n7. Concatenation (after reshape): xv =\\n\", concat_xv)"
      ],
      "metadata": {
        "colab": {
          "base_uri": "https://localhost:8080/"
        },
        "id": "dSQI6DCmvE6l",
        "outputId": "0f1d18ec-32fb-409d-b4c0-64af2a5b3047"
      },
      "execution_count": 21,
      "outputs": [
        {
          "output_type": "stream",
          "name": "stdout",
          "text": [
            "1. Addition:\n",
            " [[ 6  8]\n",
            " [10 13]]\n",
            "\n",
            "2. Subtraction:\n",
            " [[-4 -4]\n",
            " [-4 -3]]\n",
            "\n",
            "3. Multiplication:\n",
            " [[ 3  6]\n",
            " [ 9 15]]\n",
            "\n",
            "4. Square:\n",
            " [[ 1  4]\n",
            " [ 9 25]]\n",
            "\n",
            "5. Dot Products: vw = 219 , xv = [29 77] , xy =\n",
            " [[19 22]\n",
            " [50 58]]\n",
            "\n",
            "6. Concatenation: xy (row) =\n",
            " [[1 2]\n",
            " [3 5]\n",
            " [5 6]\n",
            " [7 8]] , vw (col) =\n",
            " [[ 9 10]\n",
            " [11 12]]\n",
            "\n",
            "7. Concatenation (after reshape): xv =\n",
            " [[ 1  2]\n",
            " [ 3  5]\n",
            " [ 9 10]]\n"
          ]
        }
      ]
    },
    {
      "cell_type": "markdown",
      "source": [
        "Problem - 4: Matrix Operations:\n",
        "\n",
        "• For the following arrays:\n",
        "\n",
        "A = np.array([[3,4],[7,8]]) and B = np.array([[5,3],[2,1]]);\n",
        "Prove following with Numpy:\n",
        "1. Prove A.A−1 = I.\n",
        "2. Prove AB ̸= BA.\n",
        "3. Prove (AB)\n",
        "\n",
        "T = BTAT\n",
        ".\n",
        "\n",
        "• Solve the following system of Linear equation using Inverse Methods.\n",
        "\n",
        "2x − 3y + z = −1\n",
        "x − y + 2z = −3\n",
        "3x + y − z = 9\n",
        "\n",
        "{Hint: First use Numpy array to represent the equation in Matrix form. Then Solve for: AX = B}\n",
        "\n",
        "• Now: solve the above equation using np.linalg.inv function.{Explore more about ”linalg” func-\n",
        "tion of Numpy}"
      ],
      "metadata": {
        "id": "dxspsXU7vIwb"
      }
    },
    {
      "cell_type": "code",
      "source": [
        "import numpy as np\n",
        "\n",
        "# Define matrices A and B\n",
        "A = np.array([[3, 4], [7, 8]])\n",
        "B = np.array([[5, 3], [2, 1]])\n",
        "\n",
        "# 1. Prove A.A⁻¹ = I\n",
        "A_inv = np.linalg.inv(A)  # Calculate the inverse of A\n",
        "identity_matrix = np.dot(A, A_inv)  # Multiply A by its inverse\n",
        "print(np.allclose(identity_matrix, np.eye(2)))  # Check if it's close to the identity matrix (True)\n",
        "\n",
        "# 2. Prove AB ≠ BA\n",
        "AB = np.dot(A, B)\n",
        "BA = np.dot(B, A)\n",
        "print(np.array_equal(AB, BA))  # Check if AB is equal to BA (False)\n",
        "\n",
        "# 3. Prove (AB)^T = B^T A^T\n",
        "AB_transpose = np.transpose(AB)\n",
        "B_transpose_A_transpose = np.dot(np.transpose(B), np.transpose(A))\n",
        "print(np.array_equal(AB_transpose, B_transpose_A_transpose))  # Check if (AB)^T = B^T A^T (True)\n",
        "\n",
        "# Solving the system of linear equations\n",
        "# Represent the equations in matrix form: AX = B\n",
        "A = np.array([[2, -3, 1], [1, -1, 2], [3, 1, -1]])\n",
        "B = np.array([-1, -3, 9])\n",
        "\n",
        "# Solve for X using the inverse method\n",
        "X = np.linalg.solve(A, B)  # Using np.linalg.solve\n",
        "print(\"Solution using np.linalg.solve:\", X)\n",
        "\n",
        "# Solve for X using np.linalg.inv\n",
        "X_inv = np.dot(np.linalg.inv(A), B)  # Using np.linalg.inv\n",
        "print(\"Solution using np.linalg.inv:\", X_inv)\n",
        "\n",
        "\"\"\"Explore more about 'linalg' function of NumPy:\n",
        "The 'linalg' submodule in NumPy provides functions for linear algebra operations,\n",
        "including solving systems of equations, finding eigenvalues and eigenvectors,\n",
        "calculating matrix decompositions (like SVD, QR), and more.\"\"\"\n"
      ],
      "metadata": {
        "colab": {
          "base_uri": "https://localhost:8080/",
          "height": 140
        },
        "id": "7wufJtmMvML7",
        "outputId": "895f86ec-4744-42dc-c127-b962e0433970"
      },
      "execution_count": 22,
      "outputs": [
        {
          "output_type": "stream",
          "name": "stdout",
          "text": [
            "True\n",
            "False\n",
            "True\n",
            "Solution using np.linalg.solve: [ 2.  1. -2.]\n",
            "Solution using np.linalg.inv: [ 2.  1. -2.]\n"
          ]
        },
        {
          "output_type": "execute_result",
          "data": {
            "text/plain": [
              "\"Explore more about 'linalg' function of NumPy:\\nThe 'linalg' submodule in NumPy provides functions for linear algebra operations,\\nincluding solving systems of equations, finding eigenvalues and eigenvectors,\\ncalculating matrix decompositions (like SVD, QR), and more.\""
            ],
            "application/vnd.google.colaboratory.intrinsic+json": {
              "type": "string"
            }
          },
          "metadata": {},
          "execution_count": 22
        }
      ]
    },
    {
      "cell_type": "markdown",
      "source": [
        "1. Element-wise Addition:\n",
        "\n",
        "• Using Python Lists, perform element-wise addition of two lists of size 1, 000, 000. Measure\n",
        "and Print the time taken for this operation.\n",
        "\n",
        "• Using Numpy Arrays, Repeat the calculation and measure and print the time taken for\n",
        "this operation."
      ],
      "metadata": {
        "id": "PjmhkP9IvQI8"
      }
    },
    {
      "cell_type": "code",
      "source": [
        "import time\n",
        "import numpy as np\n",
        "\n",
        "# Create two lists of size 1,000,000\n",
        "list1 = list(range(1000000))\n",
        "list2 = list(range(1000000))\n",
        "\n",
        "# Element-wise addition using Python lists\n",
        "start_time = time.time()\n",
        "result_list = [x + y for x, y in zip(list1, list2)]\n",
        "end_time = time.time()\n",
        "list_time = end_time - start_time\n",
        "print(f\"Time taken using Python lists: {list_time:.4f} seconds\")\n",
        "\n",
        "# Create two NumPy arrays of size 1,000,000\n",
        "array1 = np.arange(1000000)\n",
        "array2 = np.arange(1000000)\n",
        "\n",
        "# Element-wise addition using NumPy arrays\n",
        "start_time = time.time()\n",
        "result_array = array1 + array2\n",
        "end_time = time.time()\n",
        "array_time = end_time - start_time\n",
        "print(f\"Time taken using NumPy arrays: {array_time:.4f} seconds\")"
      ],
      "metadata": {
        "colab": {
          "base_uri": "https://localhost:8080/"
        },
        "id": "adML0NIIvQvr",
        "outputId": "fab4b105-5e70-493c-ccc2-17708cb3cfde"
      },
      "execution_count": 23,
      "outputs": [
        {
          "output_type": "stream",
          "name": "stdout",
          "text": [
            "Time taken using Python lists: 0.1721 seconds\n",
            "Time taken using NumPy arrays: 0.0153 seconds\n"
          ]
        }
      ]
    },
    {
      "cell_type": "markdown",
      "source": [
        "2. Element-wise Multiplication\n",
        "\n",
        "• Using Python Lists, perform element-wise multiplication of two lists of size 1, 000, 000.\n",
        "Measure and Print the time taken for this operation.\n",
        "\n",
        "• Using Numpy Arrays, Repeat the calculation and measure and print the time taken for\n",
        "this operation."
      ],
      "metadata": {
        "id": "JHRt7-BGvSjb"
      }
    },
    {
      "cell_type": "code",
      "source": [
        "import time\n",
        "import numpy as np\n",
        "\n",
        "# Create two lists of size 1,000,000\n",
        "list1 = list(range(1000000))\n",
        "list2 = list(range(1000000))\n",
        "\n",
        "# Element-wise multiplication using Python lists\n",
        "start_time = time.time()\n",
        "result_list = [x * y for x, y in zip(list1, list2)]\n",
        "end_time = time.time()\n",
        "list_time = end_time - start_time\n",
        "print(f\"Time taken using Python lists: {list_time:.4f} seconds\")\n",
        "\n",
        "# Create two NumPy arrays of size 1,000,000\n",
        "array1 = np.arange(1000000)\n",
        "array2 = np.arange(1000000)\n",
        "\n",
        "# Element-wise multiplication using NumPy arrays\n",
        "start_time = time.time()\n",
        "result_array = array1 * array2\n",
        "end_time = time.time()\n",
        "array_time = end_time - start_time\n",
        "print(f\"Time taken using NumPy arrays: {array_time:.4f} seconds\")"
      ],
      "metadata": {
        "colab": {
          "base_uri": "https://localhost:8080/"
        },
        "id": "5_GqFRZXvUZL",
        "outputId": "6fb07e41-10a1-4a56-95d2-87fcd6b46df2"
      },
      "execution_count": 24,
      "outputs": [
        {
          "output_type": "stream",
          "name": "stdout",
          "text": [
            "Time taken using Python lists: 0.1174 seconds\n",
            "Time taken using NumPy arrays: 0.0118 seconds\n"
          ]
        }
      ]
    },
    {
      "cell_type": "markdown",
      "source": [
        "3. Dot Product\n",
        "\n",
        "• Using Python Lists, compute the dot product of two lists of size 1, 000, 000. Measure and\n",
        "Print the time taken for this operation.\n",
        "\n",
        "• Using Numpy Arrays, Repeat the calculation and measure and print the time taken for\n",
        "this operation."
      ],
      "metadata": {
        "id": "o7CoUMmPvXZj"
      }
    },
    {
      "cell_type": "code",
      "source": [
        "import time\n",
        "import numpy as np\n",
        "\n",
        "# Create two lists of size 1,000,000\n",
        "list1 = list(range(1000000))\n",
        "list2 = list(range(1000000))\n",
        "\n",
        "# Dot product using Python lists\n",
        "start_time = time.time()\n",
        "dot_product_list = sum(x * y for x, y in zip(list1, list2))\n",
        "end_time = time.time()\n",
        "list_time = end_time - start_time\n",
        "print(f\"Time taken using Python lists: {list_time:.4f} seconds\")\n",
        "\n",
        "# Create two NumPy arrays of size 1,000,000\n",
        "array1 = np.arange(1000000)\n",
        "array2 = np.arange(1000000)\n",
        "\n",
        "# Dot product using NumPy arrays\n",
        "start_time = time.time()\n",
        "dot_product_array = np.dot(array1, array2)\n",
        "end_time = time.time()\n",
        "array_time = end_time - start_time\n",
        "print(f\"Time taken using NumPy arrays: {array_time:.4f} seconds\")"
      ],
      "metadata": {
        "colab": {
          "base_uri": "https://localhost:8080/"
        },
        "id": "GNuSPho1vX5s",
        "outputId": "2f1505ec-f9f9-4130-aab8-398ba875b817"
      },
      "execution_count": 25,
      "outputs": [
        {
          "output_type": "stream",
          "name": "stdout",
          "text": [
            "Time taken using Python lists: 0.0820 seconds\n",
            "Time taken using NumPy arrays: 0.0017 seconds\n"
          ]
        }
      ]
    },
    {
      "cell_type": "markdown",
      "source": [
        "4. Matrix Multiplication\n",
        "\n",
        "• Using Python lists, perform matrix multiplication of two matrices of size 1000x1000. Mea-\n",
        "sure and print the time taken for this operation.\n",
        "\n",
        "• Using NumPy arrays, perform matrix multiplication of two matrices of size 1000x1000.\n",
        "Measure and print the time taken for this operation."
      ],
      "metadata": {
        "id": "59omeJP5vZsU"
      }
    },
    {
      "cell_type": "code",
      "source": [
        "import time\n",
        "import numpy as np\n",
        "\n",
        "# Create two matrices of size 1000x1000 using Python lists\n",
        "matrix1_list = [[1 for _ in range(1000)] for _ in range(1000)]\n",
        "matrix2_list = [[2 for _ in range(1000)] for _ in range(1000)]\n",
        "\n",
        "# Matrix multiplication using Python lists\n",
        "start_time = time.time()\n",
        "\n",
        "result_list = [[sum(a * b for a, b in zip(row_a, col_b))\n",
        "                  for col_b in zip(*matrix2_list)]\n",
        "                 for row_a in matrix1_list]\n",
        "\n",
        "end_time = time.time()\n",
        "list_time = end_time - start_time\n",
        "print(f\"Time taken using Python lists: {list_time:.4f} seconds\")\n",
        "\n",
        "# Create two matrices of size 1000x1000 using NumPy arrays\n",
        "matrix1_array = np.ones((1000, 1000))\n",
        "matrix2_array = np.full((1000, 1000), 2)  # Fill with 2\n",
        "\n",
        "# Matrix multiplication using NumPy arrays\n",
        "start_time = time.time()\n",
        "result_array = np.dot(matrix1_array, matrix2_array)\n",
        "end_time = time.time()\n",
        "array_time = end_time - start_time\n",
        "print(f\"Time taken using NumPy arrays: {array_time:.4f} seconds\")"
      ],
      "metadata": {
        "colab": {
          "base_uri": "https://localhost:8080/"
        },
        "id": "DPOFH1AovbOz",
        "outputId": "c45ab763-04aa-4b02-84de-d3d127cd75f5"
      },
      "execution_count": 26,
      "outputs": [
        {
          "output_type": "stream",
          "name": "stdout",
          "text": [
            "Time taken using Python lists: 85.0794 seconds\n",
            "Time taken using NumPy arrays: 0.0907 seconds\n"
          ]
        }
      ]
    }
  ]
}